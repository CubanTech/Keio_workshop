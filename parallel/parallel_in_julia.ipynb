{
 "cells": [
  {
   "cell_type": "code",
   "execution_count": 1,
   "metadata": {
    "collapsed": false
   },
   "outputs": [],
   "source": [
    "using QuantEcon"
   ]
  },
  {
   "cell_type": "code",
   "execution_count": 2,
   "metadata": {
    "collapsed": false
   },
   "outputs": [
    {
     "data": {
      "text/plain": [
       "4-element Array{Int64,1}:\n",
       " 2\n",
       " 3\n",
       " 4\n",
       " 5"
      ]
     },
     "execution_count": 2,
     "metadata": {},
     "output_type": "execute_result"
    }
   ],
   "source": [
    "addprocs(4)"
   ]
  },
  {
   "cell_type": "code",
   "execution_count": 3,
   "metadata": {
    "collapsed": false
   },
   "outputs": [
    {
     "data": {
      "text/plain": [
       "5"
      ]
     },
     "execution_count": 3,
     "metadata": {},
     "output_type": "execute_result"
    }
   ],
   "source": [
    "nprocs()"
   ]
  },
  {
   "cell_type": "code",
   "execution_count": 4,
   "metadata": {
    "collapsed": false
   },
   "outputs": [
    {
     "data": {
      "text/plain": [
       "4-element Array{Int64,1}:\n",
       " 2\n",
       " 3\n",
       " 4\n",
       " 5"
      ]
     },
     "execution_count": 4,
     "metadata": {},
     "output_type": "execute_result"
    }
   ],
   "source": [
    "workers()"
   ]
  },
  {
   "cell_type": "code",
   "execution_count": 5,
   "metadata": {
    "collapsed": false
   },
   "outputs": [],
   "source": [
    "@everywhere function lucas_tree_spec_rad(;beta=0.96,\n",
    "                        gamma=2.0,\n",
    "                        sigma=0.1,\n",
    "                        b=0.0,\n",
    "                        rho=0.9,\n",
    "                        n=200)\n",
    "\n",
    "    mc = tauchen(n, rho, sigma, b)  \n",
    "    s = mc.state_values\n",
    "    J = mc.p .* exp((1 - gamma) * s)\n",
    "    return beta * maximum(abs(eigvals(J)))\n",
    "end"
   ]
  },
  {
   "cell_type": "code",
   "execution_count": 6,
   "metadata": {
    "collapsed": false
   },
   "outputs": [
    {
     "data": {
      "text/plain": [
       "1.2174480318956242"
      ]
     },
     "execution_count": 6,
     "metadata": {},
     "output_type": "execute_result"
    }
   ],
   "source": [
    "lucas_tree_spec_rad(b=0.01)"
   ]
  },
  {
   "cell_type": "code",
   "execution_count": 7,
   "metadata": {
    "collapsed": false
   },
   "outputs": [],
   "source": [
    "b_vals = collect(linspace(0.0, 0.5, 40));"
   ]
  },
  {
   "cell_type": "code",
   "execution_count": 9,
   "metadata": {
    "collapsed": false
   },
   "outputs": [
    {
     "ename": "LoadError",
     "evalue": "LoadError: On worker 2:\nUndefVarError: tauchen not defined\n [inlined code] from In[9]:3\n in anonymous at no file:0\n in anonymous at multi.jl:1369\n in anonymous at multi.jl:920\n in run_work_thunk at multi.jl:661\n in run_work_thunk at multi.jl:670\n in anonymous at task.jl:58\nwhile loading In[9], in expression starting on line 422",
     "output_type": "error",
     "traceback": [
      "LoadError: On worker 2:\nUndefVarError: tauchen not defined\n [inlined code] from In[9]:3\n in anonymous at no file:0\n in anonymous at multi.jl:1369\n in anonymous at multi.jl:920\n in run_work_thunk at multi.jl:661\n in run_work_thunk at multi.jl:670\n in anonymous at task.jl:58\nwhile loading In[9], in expression starting on line 422",
      "",
      " in remotecall_fetch at multi.jl:747",
      " in remotecall_fetch at multi.jl:750",
      " in call_on_owner at multi.jl:793",
      " in wait at multi.jl:808",
      " in sync_end at ./task.jl:400"
     ]
    }
   ],
   "source": [
    "out = SharedArray(Float64, length(b_vals))\n",
    "@sync @parallel for i in eachindex(b_vals)\n",
    "    out[i] = lucas_tree_spec_rad(b=b_vals[i])\n",
    "end"
   ]
  },
  {
   "cell_type": "code",
   "execution_count": null,
   "metadata": {
    "collapsed": true
   },
   "outputs": [],
   "source": []
  }
 ],
 "metadata": {
  "kernelspec": {
   "display_name": "Julia 0.4.6",
   "language": "julia",
   "name": "julia-0.4"
  },
  "language_info": {
   "file_extension": ".jl",
   "mimetype": "application/julia",
   "name": "julia",
   "version": "0.4.6"
  }
 },
 "nbformat": 4,
 "nbformat_minor": 0
}
