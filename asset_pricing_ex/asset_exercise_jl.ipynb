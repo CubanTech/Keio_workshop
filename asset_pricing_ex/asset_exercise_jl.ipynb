{
 "cells": [
  {
   "cell_type": "markdown",
   "metadata": {},
   "source": [
    "# Asset Pricing Exercise\n",
    "\n",
    "## Julia version"
   ]
  },
  {
   "cell_type": "markdown",
   "metadata": {},
   "source": [
    "### Warm up 1: Functions\n",
    "\n",
    "\n",
    "Let's practice making functions."
   ]
  },
  {
   "cell_type": "code",
   "execution_count": 1,
   "metadata": {
    "collapsed": false
   },
   "outputs": [
    {
     "data": {
      "text/plain": [
       "f (generic function with 1 method)"
      ]
     },
     "execution_count": 1,
     "metadata": {},
     "output_type": "execute_result"
    }
   ],
   "source": [
    "function f(x)\n",
    "    return 2 * x\n",
    "end"
   ]
  },
  {
   "cell_type": "code",
   "execution_count": 2,
   "metadata": {
    "collapsed": false
   },
   "outputs": [
    {
     "data": {
      "text/plain": [
       "6"
      ]
     },
     "execution_count": 2,
     "metadata": {},
     "output_type": "execute_result"
    }
   ],
   "source": [
    "f(3)"
   ]
  },
  {
   "cell_type": "code",
   "execution_count": 7,
   "metadata": {
    "collapsed": false
   },
   "outputs": [
    {
     "data": {
      "text/plain": [
       "print_greeting (generic function with 1 method)"
      ]
     },
     "execution_count": 7,
     "metadata": {},
     "output_type": "execute_result"
    }
   ],
   "source": [
    "function print_greeting(name)\n",
    "    greeting = \"Hello \" * name\n",
    "    println(greeting)\n",
    "end"
   ]
  },
  {
   "cell_type": "code",
   "execution_count": 8,
   "metadata": {
    "collapsed": false
   },
   "outputs": [
    {
     "name": "stdout",
     "output_type": "stream",
     "text": [
      "Hello John\n"
     ]
    }
   ],
   "source": [
    "print_greeting(\"John\")"
   ]
  },
  {
   "cell_type": "markdown",
   "metadata": {},
   "source": [
    "### Warm Up 2: Arrays and  Functions"
   ]
  },
  {
   "cell_type": "code",
   "execution_count": 13,
   "metadata": {
    "collapsed": false
   },
   "outputs": [
    {
     "data": {
      "text/plain": [
       "linspace(-1.0,1.0,6)"
      ]
     },
     "execution_count": 13,
     "metadata": {},
     "output_type": "execute_result"
    }
   ],
   "source": [
    "a = linspace(-1, 1, 6)"
   ]
  },
  {
   "cell_type": "code",
   "execution_count": 14,
   "metadata": {
    "collapsed": false
   },
   "outputs": [
    {
     "data": {
      "text/plain": [
       "6-element Array{Float64,1}:\n",
       " 0.540302\n",
       " 0.825336\n",
       " 0.980067\n",
       " 0.980067\n",
       " 0.825336\n",
       " 0.540302"
      ]
     },
     "execution_count": 14,
     "metadata": {},
     "output_type": "execute_result"
    }
   ],
   "source": [
    "cos(a)"
   ]
  },
  {
   "cell_type": "code",
   "execution_count": 15,
   "metadata": {
    "collapsed": false
   },
   "outputs": [
    {
     "data": {
      "text/plain": [
       "6-element Array{Float64,1}:\n",
       " 0.367879\n",
       " 0.548812\n",
       " 0.818731\n",
       " 1.2214  \n",
       " 1.82212 \n",
       " 2.71828 "
      ]
     },
     "execution_count": 15,
     "metadata": {},
     "output_type": "execute_result"
    }
   ],
   "source": [
    "exp(a)"
   ]
  },
  {
   "cell_type": "markdown",
   "metadata": {},
   "source": [
    "### Warm Up 3: Linear Algebra"
   ]
  },
  {
   "cell_type": "code",
   "execution_count": 18,
   "metadata": {
    "collapsed": false
   },
   "outputs": [
    {
     "data": {
      "text/plain": [
       "3x3 Array{Float64,2}:\n",
       " 1.0  0.0  0.0\n",
       " 0.0  1.0  0.0\n",
       " 0.0  0.0  1.0"
      ]
     },
     "execution_count": 18,
     "metadata": {},
     "output_type": "execute_result"
    }
   ],
   "source": [
    "I = eye(3)"
   ]
  },
  {
   "cell_type": "code",
   "execution_count": 19,
   "metadata": {
    "collapsed": false
   },
   "outputs": [
    {
     "data": {
      "text/plain": [
       "1:1:9"
      ]
     },
     "execution_count": 19,
     "metadata": {},
     "output_type": "execute_result"
    }
   ],
   "source": [
    "A = 1:1:9"
   ]
  },
  {
   "cell_type": "code",
   "execution_count": 20,
   "metadata": {
    "collapsed": false
   },
   "outputs": [
    {
     "data": {
      "text/plain": [
       "3x3 Array{Int64,2}:\n",
       " 1  4  7\n",
       " 2  5  8\n",
       " 3  6  9"
      ]
     },
     "execution_count": 20,
     "metadata": {},
     "output_type": "execute_result"
    }
   ],
   "source": [
    "A = reshape(A, 3, 3)"
   ]
  },
  {
   "cell_type": "code",
   "execution_count": 21,
   "metadata": {
    "collapsed": false
   },
   "outputs": [
    {
     "data": {
      "text/plain": [
       "3x3 Array{Float64,2}:\n",
       " 2.0  4.0   7.0\n",
       " 2.0  6.0   8.0\n",
       " 3.0  6.0  10.0"
      ]
     },
     "execution_count": 21,
     "metadata": {},
     "output_type": "execute_result"
    }
   ],
   "source": [
    "A + I"
   ]
  },
  {
   "cell_type": "code",
   "execution_count": 22,
   "metadata": {
    "collapsed": false
   },
   "outputs": [
    {
     "data": {
      "text/plain": [
       "3x3 Array{Float64,2}:\n",
       " 1.0  4.0  7.0\n",
       " 2.0  5.0  8.0\n",
       " 3.0  6.0  9.0"
      ]
     },
     "execution_count": 22,
     "metadata": {},
     "output_type": "execute_result"
    }
   ],
   "source": [
    "A * I  # matrix multiplication"
   ]
  },
  {
   "cell_type": "code",
   "execution_count": 23,
   "metadata": {
    "collapsed": false
   },
   "outputs": [
    {
     "data": {
      "text/plain": [
       "3x3 Array{Float64,2}:\n",
       " 1.0  0.0  0.0\n",
       " 0.0  5.0  0.0\n",
       " 0.0  0.0  9.0"
      ]
     },
     "execution_count": 23,
     "metadata": {},
     "output_type": "execute_result"
    }
   ],
   "source": [
    "A .* I  # element by element multiplication"
   ]
  },
  {
   "cell_type": "code",
   "execution_count": 24,
   "metadata": {
    "collapsed": false
   },
   "outputs": [
    {
     "data": {
      "text/plain": [
       "3x3 Array{Float64,2}:\n",
       " -0.786096  -1.41254   -1.97633 \n",
       " -0.388646   0.668331  -1.82124 \n",
       "  1.3015    -1.6205     0.641384"
      ]
     },
     "execution_count": 24,
     "metadata": {},
     "output_type": "execute_result"
    }
   ],
   "source": [
    "A = randn(3, 3)"
   ]
  },
  {
   "cell_type": "code",
   "execution_count": 25,
   "metadata": {
    "collapsed": false
   },
   "outputs": [
    {
     "data": {
      "text/plain": [
       "3x1 Array{Float64,2}:\n",
       " 1.0\n",
       " 1.0\n",
       " 1.0"
      ]
     },
     "execution_count": 25,
     "metadata": {},
     "output_type": "execute_result"
    }
   ],
   "source": [
    "b = ones(3, 1)"
   ]
  },
  {
   "cell_type": "code",
   "execution_count": 27,
   "metadata": {
    "collapsed": false
   },
   "outputs": [
    {
     "data": {
      "text/plain": [
       "3x1 Array{Float64,2}:\n",
       "  1.00474 \n",
       " -0.131409\n",
       " -0.811706"
      ]
     },
     "execution_count": 27,
     "metadata": {},
     "output_type": "execute_result"
    }
   ],
   "source": [
    "A \\ b  # Solve for x in Ax = b"
   ]
  },
  {
   "cell_type": "code",
   "execution_count": 28,
   "metadata": {
    "collapsed": false
   },
   "outputs": [
    {
     "data": {
      "text/plain": [
       "3-element Array{Complex{Float64},1}:\n",
       "   2.26353+0.0im    \n",
       " -0.869953+1.28549im\n",
       " -0.869953-1.28549im"
      ]
     },
     "execution_count": 28,
     "metadata": {},
     "output_type": "execute_result"
    }
   ],
   "source": [
    "eigvals(A)"
   ]
  },
  {
   "cell_type": "markdown",
   "metadata": {},
   "source": [
    "### Warm Up 4: Tests"
   ]
  },
  {
   "cell_type": "code",
   "execution_count": 33,
   "metadata": {
    "collapsed": false
   },
   "outputs": [
    {
     "data": {
      "text/plain": [
       "g (generic function with 1 method)"
      ]
     },
     "execution_count": 33,
     "metadata": {},
     "output_type": "execute_result"
    }
   ],
   "source": [
    "function g(x, y)\n",
    "    z = x + y\n",
    "    if (z < 0)\n",
    "        throw(ArgumentError(\"sum of arguments is negative\"))\n",
    "    else\n",
    "        return log(z)\n",
    "    end\n",
    "end"
   ]
  },
  {
   "cell_type": "code",
   "execution_count": 34,
   "metadata": {
    "collapsed": false
   },
   "outputs": [
    {
     "data": {
      "text/plain": [
       "0.6931471805599453"
      ]
     },
     "execution_count": 34,
     "metadata": {},
     "output_type": "execute_result"
    }
   ],
   "source": [
    "g(1, 1)"
   ]
  },
  {
   "cell_type": "code",
   "execution_count": 35,
   "metadata": {
    "collapsed": false
   },
   "outputs": [
    {
     "ename": "LoadError",
     "evalue": "LoadError: ArgumentError: sum of arguments is negative\nwhile loading In[35], in expression starting on line 1",
     "output_type": "error",
     "traceback": [
      "LoadError: ArgumentError: sum of arguments is negative\nwhile loading In[35], in expression starting on line 1",
      "",
      " in g at In[33]:4"
     ]
    }
   ],
   "source": [
    "g(1, -10)"
   ]
  },
  {
   "cell_type": "markdown",
   "metadata": {},
   "source": [
    "## Exercise"
   ]
  },
  {
   "cell_type": "markdown",
   "metadata": {},
   "source": [
    "Write a function that\n",
    "\n",
    "* takes $\\mathbf J$ as an input\n",
    "* tests the spectral radius of $\\mathbf J$\n",
    "\n",
    "    * exits with error message if $\\geq 1$\n",
    "    * returns solution $\\mathbf v = (\\mathbf I - \\mathbf J)^{-1} \\mathbf J \\mathbf 1$ otherwise\n",
    "    \n",
    "    \n",
    "Use it to compute the price dividend ratio when\n",
    "\n",
    "$$ \\mathbf J_{ij} = k(x_i, x_j) P(x_i, x_j) $$\n",
    "\n",
    "and \n",
    "\n",
    "\n",
    "$$ k(X_t, X_{t+1}) = k_{t+1} = m_{t+1} \\frac{d_{t+1}}{d_t}  $$\n",
    "\n",
    "The SDF will be\n",
    "\n",
    "$$ m_{t+1} = \\beta \\frac{u'(c_{t+1})}{u'(c_t)} $$\n",
    "\n",
    "We assume that\n",
    "\n",
    "$$ c_t = d_t $$\n",
    "\n",
    "and\n",
    "\n",
    "$$ \\ln \\frac{d_{t+1}}{d_t} = X_{t+1} $$\n",
    "\n",
    "where $\\{X_t\\}$ is a markov chain."
   ]
  },
  {
   "cell_type": "markdown",
   "metadata": {},
   "source": [
    "Regarding the Markov chain, using the following:"
   ]
  },
  {
   "cell_type": "code",
   "execution_count": 41,
   "metadata": {
    "collapsed": false
   },
   "outputs": [],
   "source": [
    "using QuantEcon\n",
    "mc = tauchen(25, 0.9, 0.02);"
   ]
  },
  {
   "cell_type": "code",
   "execution_count": 42,
   "metadata": {
    "collapsed": false
   },
   "outputs": [
    {
     "data": {
      "text/plain": [
       "25x25 Array{Float64,2}:\n",
       " 0.344034     0.224271     0.20374      …  0.0          0.0        \n",
       " 0.179398     0.185979     0.22535         0.0          0.0        \n",
       " 0.0758078    0.119002     0.192335        0.0          0.0        \n",
       " 0.025586     0.0587483    0.126666        0.0          0.0        \n",
       " 0.00682739   0.0223728    0.0643608       0.0          0.0        \n",
       " 0.00142997   0.00657113   0.0252276    …  0.0          0.0        \n",
       " 0.000233863  0.00148814   0.00762666      0.0          0.0        \n",
       " 2.97512e-5   0.00025978   0.00177783      0.0          0.0        \n",
       " 2.9358e-6    3.49458e-5   0.000319462     3.33067e-16  0.0        \n",
       " 2.24229e-7   3.62133e-6   4.42374e-5      1.83187e-14  2.22045e-16\n",
       " 1.32336e-8   2.88988e-7   4.71911e-6   …  8.53984e-13  1.18794e-14\n",
       " 6.02726e-10  1.77535e-8   3.87691e-7      3.05286e-11  5.7232e-13 \n",
       " 2.11624e-11  8.39345e-10  2.452e-8        8.39345e-10  2.11624e-11\n",
       " 5.72332e-13  3.05286e-11  1.1935e-9       1.77535e-8   6.02726e-10\n",
       " 1.19144e-14  8.53987e-13  4.46941e-11     2.88988e-7   1.32336e-8 \n",
       " 1.90807e-16  1.83674e-14  1.28727e-12  …  3.62133e-6   2.24229e-7 \n",
       " 2.34965e-18  3.03651e-16  2.85072e-14     3.49458e-5   2.9358e-6  \n",
       " 2.22398e-20  3.85766e-18  4.85272e-16     0.00025978   2.97512e-5 \n",
       " 1.61744e-22  3.76524e-20  6.34816e-18     0.00148814   0.000233863\n",
       " 9.03587e-25  2.82283e-22  6.3803e-20      0.00657113   0.00142997 \n",
       " 3.87657e-27  1.62522e-24  4.92571e-22  …  0.0223728    0.00682739 \n",
       " 1.27693e-29  7.18455e-27  2.9204e-24      0.0587483    0.025586   \n",
       " 3.22881e-32  2.4382e-29   1.32948e-26     0.119002     0.0758078  \n",
       " 6.26625e-35  6.35122e-32  4.64635e-29     0.185979     0.179398   \n",
       " 9.33244e-38  1.2697e-34   1.24643e-31     0.224271     0.344034   "
      ]
     },
     "execution_count": 42,
     "metadata": {},
     "output_type": "execute_result"
    }
   ],
   "source": [
    "mc.p"
   ]
  },
  {
   "cell_type": "code",
   "execution_count": 43,
   "metadata": {
    "collapsed": false
   },
   "outputs": [
    {
     "data": {
      "text/plain": [
       "linspace(-0.13764944032233709,0.13764944032233709,25)"
      ]
     },
     "execution_count": 43,
     "metadata": {},
     "output_type": "execute_result"
    }
   ],
   "source": [
    "mc.state_values"
   ]
  },
  {
   "cell_type": "markdown",
   "metadata": {},
   "source": [
    "For utility use $u(c) = c^{1-\\gamma}/ (1 - \\gamma)$ with $\\gamma = 2.0$\n",
    "\n",
    "For the discount factor set $\\beta = 0.98$\n",
    "\n",
    "If you can, plot your solution.  Show the price dividend ratio at each state."
   ]
  },
  {
   "cell_type": "code",
   "execution_count": null,
   "metadata": {
    "collapsed": true
   },
   "outputs": [],
   "source": [
    "# Put your solution here!\n",
    "\n"
   ]
  },
  {
   "cell_type": "markdown",
   "metadata": {},
   "source": [
    "## Solution"
   ]
  },
  {
   "cell_type": "code",
   "execution_count": 58,
   "metadata": {
    "collapsed": false
   },
   "outputs": [
    {
     "name": "stdout",
     "output_type": "stream",
     "text": [
      "Solution below -- look only after trying hard\n",
      "Solution below -- look only after trying hard\n",
      "Solution below -- look only after trying hard\n",
      "Solution below -- look only after trying hard\n",
      "Solution below -- look only after trying hard\n",
      "Solution below -- look only after trying hard\n",
      "Solution below -- look only after trying hard\n",
      "Solution below -- look only after trying hard\n",
      "Solution below -- look only after trying hard\n",
      "Solution below -- look only after trying hard\n",
      "Solution below -- look only after trying hard\n",
      "Solution below -- look only after trying hard\n",
      "Solution below -- look only after trying hard\n",
      "Solution below -- look only after trying hard\n",
      "Solution below -- look only after trying hard\n",
      "Solution below -- look only after trying hard\n",
      "Solution below -- look only after trying hard\n",
      "Solution below -- look only after trying hard\n",
      "Solution below -- look only after trying hard\n",
      "Solution below -- look only after trying hard\n",
      "Solution below -- look only after trying hard\n",
      "Solution below -- look only after trying hard\n",
      "Solution below -- look only after trying hard\n",
      "Solution below -- look only after trying hard\n",
      "Solution below -- look only after trying hard\n",
      "Solution below -- look only after trying hard\n",
      "Solution below -- look only after trying hard\n",
      "Solution below -- look only after trying hard\n",
      "Solution below -- look only after trying hard\n",
      "Solution below -- look only after trying hard\n",
      "Solution below -- look only after trying hard\n",
      "Solution below -- look only after trying hard\n",
      "Solution below -- look only after trying hard\n",
      "Solution below -- look only after trying hard\n",
      "Solution below -- look only after trying hard\n",
      "Solution below -- look only after trying hard\n",
      "Solution below -- look only after trying hard\n",
      "Solution below -- look only after trying hard\n",
      "Solution below -- look only after trying hard\n",
      "Solution below -- look only after trying hard\n"
     ]
    }
   ],
   "source": [
    "for i in 1:40\n",
    "    println(\"Solution below -- look only after trying hard\")\n",
    "end"
   ]
  },
  {
   "cell_type": "markdown",
   "metadata": {},
   "source": [
    "First let's write the function."
   ]
  },
  {
   "cell_type": "code",
   "execution_count": 59,
   "metadata": {
    "collapsed": false
   },
   "outputs": [
    {
     "data": {
      "text/plain": [
       "compute_price_dividend_ratio (generic function with 1 method)"
      ]
     },
     "execution_count": 59,
     "metadata": {},
     "output_type": "execute_result"
    }
   ],
   "source": [
    "function compute_price_dividend_ratio(J)\n",
    "    n = size(J)[1]\n",
    "    sr = maximum(abs(eigvals(J)))\n",
    "    if sr >= 1 / beta\n",
    "        msg = \"Spectral radius condition failed with radius = $sr\"\n",
    "        throw(ArgumentError(msg))\n",
    "    end\n",
    "\n",
    "    I = eye(n)\n",
    "    v = (I - J) \\ (J * ones(n, 1)) \n",
    "    return v\n",
    "end\n"
   ]
  },
  {
   "cell_type": "markdown",
   "metadata": {},
   "source": [
    "Now we need to work out what $\\mathbf J$ is.\n",
    "\n",
    "With a bit of work you can check that\n",
    "\n",
    "$$ m_{t+1} = \\beta \\exp( (1 - \\gamma) X_{t+1} ) $$\n",
    "\n",
    "so\n",
    "\n",
    "$$ \\mathbf J_{ij} = \\beta \\exp( (1 - \\gamma) x_j ) P(x_i, x_j) $$"
   ]
  },
  {
   "cell_type": "code",
   "execution_count": 62,
   "metadata": {
    "collapsed": false
   },
   "outputs": [
    {
     "data": {
      "text/plain": [
       "25x25 Array{Float64,2}:\n",
       " 0.386908     0.249344     0.223934     …  0.0          0.0        \n",
       " 0.201755     0.206771     0.247686        0.0          0.0        \n",
       " 0.0852551    0.132305     0.211398        0.0          0.0        \n",
       " 0.0287746    0.065316     0.139221        0.0          0.0        \n",
       " 0.00767823   0.024874     0.07074         0.0          0.0        \n",
       " 0.00160817   0.00730576   0.027728     …  0.0          0.0        \n",
       " 0.000263007  0.00165451   0.00838258      0.0          0.0        \n",
       " 3.34589e-5   0.000288823  0.00195404      0.0          0.0        \n",
       " 3.30167e-6   3.88526e-5   0.000351125     2.87713e-16  0.0        \n",
       " 2.52173e-7   4.02617e-6   4.8622e-5       1.58242e-14  1.89621e-16\n",
       " 1.48828e-8   3.21295e-7   5.18684e-6   …  7.37695e-13  1.01447e-14\n",
       " 6.77838e-10  1.97383e-8   4.26117e-7      2.63714e-11  4.88748e-13\n",
       " 2.37997e-11  9.33179e-10  2.69503e-8      7.2505e-10   1.80722e-11\n",
       " 6.43657e-13  3.39416e-11  1.31179e-9      1.5336e-8    5.14713e-10\n",
       " 1.33992e-14  9.49459e-13  4.91239e-11     2.49636e-7   1.13012e-8 \n",
       " 2.14585e-16  2.04208e-14  1.41486e-12  …  3.1282e-6    1.91486e-7 \n",
       " 2.64247e-18  3.37598e-16  3.13327e-14     3.01872e-5   2.5071e-6  \n",
       " 2.50114e-20  4.28893e-18  5.33369e-16     0.000224406  2.54068e-5 \n",
       " 1.81901e-22  4.18617e-20  6.97736e-18     0.0012855    0.000199713\n",
       " 1.01619e-24  3.13841e-22  7.01269e-20     0.00567633   0.00122116 \n",
       " 4.35967e-27  1.80692e-24  5.41392e-22  …  0.0193263    0.00583043 \n",
       " 1.43606e-29  7.98775e-27  3.20985e-24     0.0507484    0.0218499  \n",
       " 3.6312e-32   2.71078e-29  1.46125e-26     0.102797     0.064738   \n",
       " 7.04716e-35  7.06126e-32  5.10687e-29     0.160654     0.153201   \n",
       " 1.04955e-37  1.41165e-34  1.36997e-31     0.193732     0.293797   "
      ]
     },
     "execution_count": 62,
     "metadata": {},
     "output_type": "execute_result"
    }
   ],
   "source": [
    "gamma = 2.0\n",
    "beta = 0.98\n",
    "\n",
    "x = reshape(mc.state_values, 1, length(mc.state_values))\n",
    "J = beta * mc.p .* exp((1 - gamma) * x)\n"
   ]
  },
  {
   "cell_type": "markdown",
   "metadata": {},
   "source": [
    "Now call the function:"
   ]
  },
  {
   "cell_type": "code",
   "execution_count": 63,
   "metadata": {
    "collapsed": false
   },
   "outputs": [
    {
     "data": {
      "text/plain": [
       "25x1 Array{Float64,2}:\n",
       " 3806.11 \n",
       " 3562.0  \n",
       " 3293.07 \n",
       " 3019.37 \n",
       " 2754.21 \n",
       " 2504.43 \n",
       " 2272.78 \n",
       " 2059.86 \n",
       " 1865.23 \n",
       " 1687.92 \n",
       " 1526.79 \n",
       " 1380.59 \n",
       " 1248.1  \n",
       " 1128.12 \n",
       " 1019.55 \n",
       "  921.352\n",
       "  832.585\n",
       "  752.382\n",
       "  679.968\n",
       "  614.666\n",
       "  555.918\n",
       "  503.353\n",
       "  456.916\n",
       "  417.024\n",
       "  384.548"
      ]
     },
     "execution_count": 63,
     "metadata": {},
     "output_type": "execute_result"
    }
   ],
   "source": [
    "v = compute_price_dividend_ratio(J)"
   ]
  },
  {
   "cell_type": "code",
   "execution_count": 65,
   "metadata": {
    "collapsed": false
   },
   "outputs": [
    {
     "data": {
      "text/plain": [
       "Plots.PyPlotBackend()"
      ]
     },
     "execution_count": 65,
     "metadata": {},
     "output_type": "execute_result"
    }
   ],
   "source": [
    "using Plots\n",
    "using LaTeXStrings\n",
    "\n",
    "pyplot()"
   ]
  },
  {
   "cell_type": "code",
   "execution_count": 67,
   "metadata": {
    "collapsed": false
   },
   "outputs": [
    {
     "data": {
      "text/html": [
       "<img src=\"data:image/png;base64,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\" />"
      ]
     },
     "execution_count": 67,
     "metadata": {},
     "output_type": "execute_result"
    }
   ],
   "source": [
    "plot(mc.state_values, \n",
    "    v, \n",
    "    lw=2, \n",
    "    ylabel=\"price-dividend ratio\", \n",
    "    xlabel=\"state\", \n",
    "    alpha=0.7, \n",
    "    label=L\"$v$\")"
   ]
  },
  {
   "cell_type": "code",
   "execution_count": null,
   "metadata": {
    "collapsed": true
   },
   "outputs": [],
   "source": []
  }
 ],
 "metadata": {
  "kernelspec": {
   "display_name": "Julia 0.4.6",
   "language": "julia",
   "name": "julia-0.4"
  },
  "language_info": {
   "file_extension": ".jl",
   "mimetype": "application/julia",
   "name": "julia",
   "version": "0.4.6"
  }
 },
 "nbformat": 4,
 "nbformat_minor": 0
}
