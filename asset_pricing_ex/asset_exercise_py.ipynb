{
 "cells": [
  {
   "cell_type": "markdown",
   "metadata": {},
   "source": [
    "# Asset Pricing Exercise"
   ]
  },
  {
   "cell_type": "markdown",
   "metadata": {},
   "source": [
    "## Python version"
   ]
  },
  {
   "cell_type": "code",
   "execution_count": 1,
   "metadata": {
    "collapsed": false
   },
   "outputs": [
    {
     "data": {
      "text/plain": [
       "'%.4f'"
      ]
     },
     "execution_count": 1,
     "metadata": {},
     "output_type": "execute_result"
    }
   ],
   "source": [
    "%precision 4"
   ]
  },
  {
   "cell_type": "markdown",
   "metadata": {},
   "source": [
    "### Warm up 1: Functions"
   ]
  },
  {
   "cell_type": "markdown",
   "metadata": {},
   "source": [
    "First let's practice making functions."
   ]
  },
  {
   "cell_type": "code",
   "execution_count": 2,
   "metadata": {
    "collapsed": true
   },
   "outputs": [],
   "source": [
    "def f(x):\n",
    "    return 2 * x"
   ]
  },
  {
   "cell_type": "code",
   "execution_count": 3,
   "metadata": {
    "collapsed": false
   },
   "outputs": [
    {
     "data": {
      "text/plain": [
       "6"
      ]
     },
     "execution_count": 3,
     "metadata": {},
     "output_type": "execute_result"
    }
   ],
   "source": [
    "f(3)"
   ]
  },
  {
   "cell_type": "code",
   "execution_count": 4,
   "metadata": {
    "collapsed": true
   },
   "outputs": [],
   "source": [
    "def print_greeting(name):\n",
    "    greeting = \"Hello \" + name\n",
    "    print(greeting)"
   ]
  },
  {
   "cell_type": "code",
   "execution_count": 5,
   "metadata": {
    "collapsed": false
   },
   "outputs": [
    {
     "name": "stdout",
     "output_type": "stream",
     "text": [
      "Hello John\n"
     ]
    }
   ],
   "source": [
    "print_greeting(\"John\")"
   ]
  },
  {
   "cell_type": "markdown",
   "metadata": {},
   "source": [
    "### Warm Up 2: Arrays and NumPy Functions"
   ]
  },
  {
   "cell_type": "code",
   "execution_count": 6,
   "metadata": {
    "collapsed": true
   },
   "outputs": [],
   "source": [
    "import numpy as np"
   ]
  },
  {
   "cell_type": "code",
   "execution_count": 7,
   "metadata": {
    "collapsed": true
   },
   "outputs": [],
   "source": [
    "a = np.linspace(-1, 1, 6)  # even grid from -1 to 1 with 6 elements"
   ]
  },
  {
   "cell_type": "code",
   "execution_count": 8,
   "metadata": {
    "collapsed": false
   },
   "outputs": [
    {
     "data": {
      "text/plain": [
       "array([-1. , -0.6, -0.2,  0.2,  0.6,  1. ])"
      ]
     },
     "execution_count": 8,
     "metadata": {},
     "output_type": "execute_result"
    }
   ],
   "source": [
    "a"
   ]
  },
  {
   "cell_type": "code",
   "execution_count": 9,
   "metadata": {
    "collapsed": false
   },
   "outputs": [
    {
     "data": {
      "text/plain": [
       "array([ 0.54030231,  0.82533561,  0.98006658,  0.98006658,  0.82533561,\n",
       "        0.54030231])"
      ]
     },
     "execution_count": 9,
     "metadata": {},
     "output_type": "execute_result"
    }
   ],
   "source": [
    "np.cos(a)"
   ]
  },
  {
   "cell_type": "code",
   "execution_count": 10,
   "metadata": {
    "collapsed": false
   },
   "outputs": [
    {
     "data": {
      "text/plain": [
       "array([-0.84147098, -0.56464247, -0.19866933,  0.19866933,  0.56464247,\n",
       "        0.84147098])"
      ]
     },
     "execution_count": 10,
     "metadata": {},
     "output_type": "execute_result"
    }
   ],
   "source": [
    "np.sin(a)"
   ]
  },
  {
   "cell_type": "code",
   "execution_count": 11,
   "metadata": {
    "collapsed": false
   },
   "outputs": [
    {
     "data": {
      "text/plain": [
       "array([ 0.36787944,  0.54881164,  0.81873075,  1.22140276,  1.8221188 ,\n",
       "        2.71828183])"
      ]
     },
     "execution_count": 11,
     "metadata": {},
     "output_type": "execute_result"
    }
   ],
   "source": [
    "np.exp(a)"
   ]
  },
  {
   "cell_type": "markdown",
   "metadata": {},
   "source": [
    "\n",
    "### Warm Up 3: Linear Algebra"
   ]
  },
  {
   "cell_type": "code",
   "execution_count": 12,
   "metadata": {
    "collapsed": false
   },
   "outputs": [
    {
     "data": {
      "text/plain": [
       "array([[ 1.,  0.,  0.],\n",
       "       [ 0.,  1.,  0.],\n",
       "       [ 0.,  0.,  1.]])"
      ]
     },
     "execution_count": 12,
     "metadata": {},
     "output_type": "execute_result"
    }
   ],
   "source": [
    "I = np.identity(3)\n",
    "I"
   ]
  },
  {
   "cell_type": "code",
   "execution_count": 13,
   "metadata": {
    "collapsed": false
   },
   "outputs": [],
   "source": [
    "A = np.arange(9)"
   ]
  },
  {
   "cell_type": "code",
   "execution_count": 14,
   "metadata": {
    "collapsed": false
   },
   "outputs": [
    {
     "data": {
      "text/plain": [
       "array([0, 1, 2, 3, 4, 5, 6, 7, 8])"
      ]
     },
     "execution_count": 14,
     "metadata": {},
     "output_type": "execute_result"
    }
   ],
   "source": [
    "A"
   ]
  },
  {
   "cell_type": "code",
   "execution_count": 15,
   "metadata": {
    "collapsed": true
   },
   "outputs": [],
   "source": [
    "A = A.reshape(3, 3)"
   ]
  },
  {
   "cell_type": "code",
   "execution_count": 16,
   "metadata": {
    "collapsed": false
   },
   "outputs": [
    {
     "data": {
      "text/plain": [
       "array([[0, 1, 2],\n",
       "       [3, 4, 5],\n",
       "       [6, 7, 8]])"
      ]
     },
     "execution_count": 16,
     "metadata": {},
     "output_type": "execute_result"
    }
   ],
   "source": [
    "A"
   ]
  },
  {
   "cell_type": "code",
   "execution_count": 17,
   "metadata": {
    "collapsed": false
   },
   "outputs": [
    {
     "data": {
      "text/plain": [
       "array([[ 1.,  1.,  2.],\n",
       "       [ 3.,  5.,  5.],\n",
       "       [ 6.,  7.,  9.]])"
      ]
     },
     "execution_count": 17,
     "metadata": {},
     "output_type": "execute_result"
    }
   ],
   "source": [
    "A + I"
   ]
  },
  {
   "cell_type": "code",
   "execution_count": 18,
   "metadata": {
    "collapsed": false
   },
   "outputs": [
    {
     "data": {
      "text/plain": [
       "array([[ 0.,  1.,  2.],\n",
       "       [ 3.,  4.,  5.],\n",
       "       [ 6.,  7.,  8.]])"
      ]
     },
     "execution_count": 18,
     "metadata": {},
     "output_type": "execute_result"
    }
   ],
   "source": [
    "A @ I  # matrix multiplication"
   ]
  },
  {
   "cell_type": "code",
   "execution_count": 19,
   "metadata": {
    "collapsed": false
   },
   "outputs": [
    {
     "data": {
      "text/plain": [
       "array([[ 0.,  0.,  0.],\n",
       "       [ 0.,  4.,  0.],\n",
       "       [ 0.,  0.,  8.]])"
      ]
     },
     "execution_count": 19,
     "metadata": {},
     "output_type": "execute_result"
    }
   ],
   "source": [
    "A * I  # multiply element by element"
   ]
  },
  {
   "cell_type": "code",
   "execution_count": 20,
   "metadata": {
    "collapsed": false
   },
   "outputs": [],
   "source": [
    "b = np.ones((3, 1))  # vector of ones, 3 x 1"
   ]
  },
  {
   "cell_type": "code",
   "execution_count": 21,
   "metadata": {
    "collapsed": true
   },
   "outputs": [],
   "source": [
    "from scipy.linalg import solve"
   ]
  },
  {
   "cell_type": "code",
   "execution_count": 22,
   "metadata": {
    "collapsed": true
   },
   "outputs": [],
   "source": [
    "A = np.random.randn(3, 3)"
   ]
  },
  {
   "cell_type": "code",
   "execution_count": 23,
   "metadata": {
    "collapsed": false
   },
   "outputs": [
    {
     "data": {
      "text/plain": [
       "array([[-0.50167196, -1.89018389,  1.29918293],\n",
       "       [ 1.21106036, -0.19979681,  1.28817361],\n",
       "       [ 0.01650616, -0.22767174, -2.55646012]])"
      ]
     },
     "execution_count": 23,
     "metadata": {},
     "output_type": "execute_result"
    }
   ],
   "source": [
    "A"
   ]
  },
  {
   "cell_type": "code",
   "execution_count": 24,
   "metadata": {
    "collapsed": false
   },
   "outputs": [
    {
     "data": {
      "text/plain": [
       "array([[ 0.9773927 ],\n",
       "       [-0.99224386],\n",
       "       [-0.29648854]])"
      ]
     },
     "execution_count": 24,
     "metadata": {},
     "output_type": "execute_result"
    }
   ],
   "source": [
    "solve(A, b)  # solve Ax = b"
   ]
  },
  {
   "cell_type": "code",
   "execution_count": 25,
   "metadata": {
    "collapsed": false
   },
   "outputs": [
    {
     "data": {
      "text/plain": [
       "array([-0.36124478+1.57865326j, -0.36124478-1.57865326j, -2.53543933+0.j        ])"
      ]
     },
     "execution_count": 25,
     "metadata": {},
     "output_type": "execute_result"
    }
   ],
   "source": [
    "from scipy.linalg import eigvals\n",
    "eigvals(A)"
   ]
  },
  {
   "cell_type": "markdown",
   "metadata": {},
   "source": [
    "### Warm Up 4:  Tests"
   ]
  },
  {
   "cell_type": "code",
   "execution_count": 51,
   "metadata": {
    "collapsed": false
   },
   "outputs": [],
   "source": [
    "def g(x, y):\n",
    "    z = x + y\n",
    "    assert z >= 0, \"sum of arguments is negative\"\n",
    "    return np.log(z)"
   ]
  },
  {
   "cell_type": "code",
   "execution_count": 52,
   "metadata": {
    "collapsed": false
   },
   "outputs": [
    {
     "data": {
      "text/plain": [
       "1.0986"
      ]
     },
     "execution_count": 52,
     "metadata": {},
     "output_type": "execute_result"
    }
   ],
   "source": [
    "g(1, 2)"
   ]
  },
  {
   "cell_type": "code",
   "execution_count": 53,
   "metadata": {
    "collapsed": false
   },
   "outputs": [
    {
     "ename": "AssertionError",
     "evalue": "sum of arguments is negative",
     "output_type": "error",
     "traceback": [
      "\u001b[0;31m---------------------------------------------------------------------------\u001b[0m",
      "\u001b[0;31mAssertionError\u001b[0m                            Traceback (most recent call last)",
      "\u001b[0;32m<ipython-input-53-0cda0e0e70b8>\u001b[0m in \u001b[0;36m<module>\u001b[0;34m()\u001b[0m\n\u001b[0;32m----> 1\u001b[0;31m \u001b[0mg\u001b[0m\u001b[0;34m(\u001b[0m\u001b[0;36m1\u001b[0m\u001b[0;34m,\u001b[0m \u001b[0;34m-\u001b[0m\u001b[0;36m10\u001b[0m\u001b[0;34m)\u001b[0m\u001b[0;34m\u001b[0m\u001b[0m\n\u001b[0m",
      "\u001b[0;32m<ipython-input-51-43ea3461a625>\u001b[0m in \u001b[0;36mg\u001b[0;34m(x, y)\u001b[0m\n\u001b[1;32m      1\u001b[0m \u001b[0;32mdef\u001b[0m \u001b[0mg\u001b[0m\u001b[0;34m(\u001b[0m\u001b[0mx\u001b[0m\u001b[0;34m,\u001b[0m \u001b[0my\u001b[0m\u001b[0;34m)\u001b[0m\u001b[0;34m:\u001b[0m\u001b[0;34m\u001b[0m\u001b[0m\n\u001b[1;32m      2\u001b[0m     \u001b[0mz\u001b[0m \u001b[0;34m=\u001b[0m \u001b[0mx\u001b[0m \u001b[0;34m+\u001b[0m \u001b[0my\u001b[0m\u001b[0;34m\u001b[0m\u001b[0m\n\u001b[0;32m----> 3\u001b[0;31m     \u001b[0;32massert\u001b[0m \u001b[0mz\u001b[0m \u001b[0;34m>=\u001b[0m \u001b[0;36m0\u001b[0m\u001b[0;34m,\u001b[0m \u001b[0;34m\"sum of arguments is negative\"\u001b[0m\u001b[0;34m\u001b[0m\u001b[0m\n\u001b[0m\u001b[1;32m      4\u001b[0m     \u001b[0;32mreturn\u001b[0m \u001b[0mnp\u001b[0m\u001b[0;34m.\u001b[0m\u001b[0mlog\u001b[0m\u001b[0;34m(\u001b[0m\u001b[0mz\u001b[0m\u001b[0;34m)\u001b[0m\u001b[0;34m\u001b[0m\u001b[0m\n",
      "\u001b[0;31mAssertionError\u001b[0m: sum of arguments is negative"
     ]
    }
   ],
   "source": [
    "g(1, -10)"
   ]
  },
  {
   "cell_type": "markdown",
   "metadata": {},
   "source": [
    "## Exercise"
   ]
  },
  {
   "cell_type": "markdown",
   "metadata": {},
   "source": [
    "Write a function that\n",
    "\n",
    "* takes $\\mathbf J$ as an input\n",
    "* tests the spectral radius of $\\mathbf J$\n",
    "\n",
    "    * exits with error message if $\\geq 1$\n",
    "    * returns solution $\\mathbf v = (\\mathbf I - \\mathbf J)^{-1} \\mathbf J \\mathbf 1$ otherwise\n",
    "    \n",
    "    \n",
    "Use it to compute the price dividend ratio when\n",
    "\n",
    "$$ \\mathbf J_{ij} = k(x_i, x_j) P(x_i, x_j) $$\n",
    "\n",
    "and \n",
    "\n",
    "\n",
    "$$ k(X_t, X_{t+1}) = k_{t+1} = m_{t+1} \\frac{d_{t+1}}{d_t}  $$\n",
    "\n",
    "The SDF will be\n",
    "\n",
    "$$ m_{t+1} = \\beta \\frac{u'(c_{t+1})}{u'(c_t)} $$\n",
    "\n",
    "We assume that\n",
    "\n",
    "$$ c_t = d_t $$\n",
    "\n",
    "and\n",
    "\n",
    "$$ \\ln \\frac{d_{t+1}}{d_t} = X_{t+1} $$\n",
    "\n",
    "where $\\{X_t\\}$ is a markov chain."
   ]
  },
  {
   "cell_type": "markdown",
   "metadata": {},
   "source": [
    "Regarding the Markov chain, using the following:"
   ]
  },
  {
   "cell_type": "code",
   "execution_count": 54,
   "metadata": {
    "collapsed": true
   },
   "outputs": [],
   "source": [
    "import quantecon as qe\n",
    "mc = qe.tauchen(0.9, 0.02, n=25)"
   ]
  },
  {
   "cell_type": "code",
   "execution_count": 55,
   "metadata": {
    "collapsed": false
   },
   "outputs": [
    {
     "data": {
      "text/plain": [
       "array([[  3.44034288e-01,   2.24271241e-01,   2.03740273e-01,\n",
       "          1.34393121e-01,   6.43608460e-02,   2.23728435e-02,\n",
       "          5.64354865e-03,   1.03267614e-03,   1.37020130e-04,\n",
       "          1.31772710e-05,   9.18102294e-07,   4.63213853e-08,\n",
       "          1.69160441e-09,   4.46941373e-11,   8.53983551e-13,\n",
       "          1.17683641e-14,   1.11022302e-16,   0.00000000e+00,\n",
       "          0.00000000e+00,   0.00000000e+00,   0.00000000e+00,\n",
       "          0.00000000e+00,   0.00000000e+00,   0.00000000e+00,\n",
       "          0.00000000e+00],\n",
       "       [  1.79397679e-01,   1.85978988e-01,   2.25350428e-01,\n",
       "          1.98272552e-01,   1.26666043e-01,   5.87482605e-02,\n",
       "          1.97776033e-02,   4.83136693e-03,   8.56112395e-04,\n",
       "          1.09997227e-04,   1.02431662e-05,   6.91021078e-07,\n",
       "          3.37561799e-08,   1.19350030e-09,   3.05285797e-11,\n",
       "          5.64659430e-13,   7.54951657e-15,   1.11022302e-16,\n",
       "          0.00000000e+00,   0.00000000e+00,   0.00000000e+00,\n",
       "          0.00000000e+00,   0.00000000e+00,   0.00000000e+00,\n",
       "          0.00000000e+00],\n",
       "       [  7.58077738e-02,   1.19001592e-01,   1.92334979e-01,\n",
       "          2.25711310e-01,   1.92334979e-01,   1.19001592e-01,\n",
       "          5.34535736e-02,   1.74274296e-02,   4.12281106e-03,\n",
       "          7.07459108e-04,   8.80199508e-05,   7.93675569e-06,\n",
       "          5.18429330e-07,   2.45200366e-08,   8.39344705e-10,\n",
       "          2.07853734e-11,   3.72146758e-13,   4.88498131e-15,\n",
       "          0.00000000e+00,   0.00000000e+00,   0.00000000e+00,\n",
       "          0.00000000e+00,   0.00000000e+00,   0.00000000e+00,\n",
       "          0.00000000e+00],\n",
       "       [  2.55860490e-02,   5.87482605e-02,   1.26666043e-01,\n",
       "          1.98272552e-01,   2.25350428e-01,   1.85978988e-01,\n",
       "          1.11443480e-01,   4.84804711e-02,   1.53073520e-02,\n",
       "          3.50689156e-03,   5.82741074e-04,   7.02073099e-05,\n",
       "          6.12987546e-06,   3.87690966e-07,   1.77535335e-08,\n",
       "          5.88372351e-10,   1.41058276e-11,   2.44471110e-13,\n",
       "          3.10862447e-15,   0.00000000e+00,   0.00000000e+00,\n",
       "          0.00000000e+00,   0.00000000e+00,   0.00000000e+00,\n",
       "          0.00000000e+00],\n",
       "       [  6.82738835e-03,   2.23728435e-02,   6.43608460e-02,\n",
       "          1.34393121e-01,   2.03740273e-01,   2.24271241e-01,\n",
       "          1.79258341e-01,   1.04031726e-01,   4.38293625e-02,\n",
       "          1.34021265e-02,   2.97342213e-03,   4.78468622e-04,\n",
       "          5.58194015e-05,   4.71910824e-06,   2.88987759e-07,\n",
       "          1.28128037e-08,   4.11109813e-10,   9.54181179e-12,\n",
       "          1.60094160e-13,   1.99840144e-15,   0.00000000e+00,\n",
       "          0.00000000e+00,   0.00000000e+00,   0.00000000e+00,\n",
       "          0.00000000e+00],\n",
       "       [  1.42996910e-03,   6.57113440e-03,   2.52276065e-02,\n",
       "          7.02840941e-02,   1.42135758e-01,   2.08689777e-01,\n",
       "          2.22484063e-01,   1.72228376e-01,   9.68023943e-02,\n",
       "          3.94976807e-02,   1.16964514e-02,   2.51302007e-03,\n",
       "          3.91592760e-04,   4.42373858e-05,   3.62132643e-06,\n",
       "          2.14719092e-07,   9.21720045e-09,   2.86323409e-10,\n",
       "          6.43363141e-12,   1.04583009e-13,   1.22124533e-15,\n",
       "          0.00000000e+00,   0.00000000e+00,   0.00000000e+00,\n",
       "          0.00000000e+00],\n",
       "       [  2.33862654e-04,   1.48813840e-03,   7.62666050e-03,\n",
       "          2.83555704e-02,   7.65069766e-02,   1.49843948e-01,\n",
       "          2.13076472e-01,   2.20005908e-01,   1.64945255e-01,\n",
       "          8.97874145e-02,   3.54801978e-02,   1.01751576e-02,\n",
       "          2.11709491e-03,   3.19461859e-04,   3.49457988e-05,\n",
       "          2.76996741e-06,   1.59022702e-07,   6.60920429e-09,\n",
       "          1.98769445e-10,   4.32376357e-12,   6.80566714e-14,\n",
       "          7.77156117e-16,   0.00000000e+00,   0.00000000e+00,\n",
       "          0.00000000e+00],\n",
       "       [  2.97512220e-05,   2.59780387e-04,   1.77782704e-03,\n",
       "          8.82337274e-03,   3.17693507e-02,   8.30144723e-02,\n",
       "          1.57465233e-01,   2.16860213e-01,   2.16860213e-01,\n",
       "          1.57465233e-01,   8.30144723e-02,   3.17693507e-02,\n",
       "          8.82337274e-03,   1.77782704e-03,   2.59780387e-04,\n",
       "          2.75170283e-05,   2.11193570e-06,   1.17393661e-07,\n",
       "          4.72383166e-09,   1.37542089e-10,   2.89646085e-12,\n",
       "          4.41868764e-14,   4.44089210e-16,   0.00000000e+00,\n",
       "          0.00000000e+00],\n",
       "       [  2.93580247e-06,   3.49457988e-05,   3.19461859e-04,\n",
       "          2.11709491e-03,   1.01751576e-02,   3.54801978e-02,\n",
       "          8.97874145e-02,   1.64945255e-01,   2.20005908e-01,\n",
       "          2.13076472e-01,   1.49843948e-01,   7.65069766e-02,\n",
       "          2.83555704e-02,   7.62666050e-03,   1.48813840e-03,\n",
       "          2.10569999e-04,   2.15977711e-05,   1.60503893e-06,\n",
       "          8.63827488e-08,   3.36538353e-09,   9.48667811e-11,\n",
       "          1.93400851e-12,   2.85327317e-14,   3.33066907e-16,\n",
       "          0.00000000e+00],\n",
       "       [  2.24229156e-07,   3.62132643e-06,   4.42373858e-05,\n",
       "          3.91592760e-04,   2.51302007e-03,   1.16964514e-02,\n",
       "          3.94976807e-02,   9.68023943e-02,   1.72228376e-01,\n",
       "          2.22484063e-01,   2.08689777e-01,   1.42135758e-01,\n",
       "          7.02840941e-02,   2.52276065e-02,   6.57113440e-03,\n",
       "          1.24165686e-03,   1.70133263e-04,   1.68972871e-05,\n",
       "          1.21587547e-06,   6.33586695e-08,   2.38984332e-09,\n",
       "          6.52207177e-11,   1.28730360e-12,   1.83186799e-14,\n",
       "          2.22044605e-16],\n",
       "       [  1.32336175e-08,   2.88987759e-07,   4.71910824e-06,\n",
       "          5.58194015e-05,   4.78468622e-04,   2.97342213e-03,\n",
       "          1.34021265e-02,   4.38293625e-02,   1.04031726e-01,\n",
       "          1.79258341e-01,   2.24271241e-01,   2.03740273e-01,\n",
       "          1.34393121e-01,   6.43608460e-02,   2.23728435e-02,\n",
       "          5.64354865e-03,   1.03267614e-03,   1.37020130e-04,\n",
       "          1.31772710e-05,   9.18102294e-07,   4.63213853e-08,\n",
       "          1.69160441e-09,   4.46941373e-11,   8.53983551e-13,\n",
       "          1.18793864e-14],\n",
       "       [  6.02725707e-10,   1.77535336e-08,   3.87690966e-07,\n",
       "          6.12987546e-06,   7.02073099e-05,   5.82741074e-04,\n",
       "          3.50689156e-03,   1.53073520e-02,   4.84804711e-02,\n",
       "          1.11443480e-01,   1.85978988e-01,   2.25350428e-01,\n",
       "          1.98272552e-01,   1.26666043e-01,   5.87482605e-02,\n",
       "          1.97776033e-02,   4.83136693e-03,   8.56112395e-04,\n",
       "          1.09997227e-04,   1.02431662e-05,   6.91021078e-07,\n",
       "          3.37561799e-08,   1.19350030e-09,   3.05285797e-11,\n",
       "          5.72319969e-13],\n",
       "       [  2.11623663e-11,   8.39344770e-10,   2.45200365e-08,\n",
       "          5.18429330e-07,   7.93675569e-06,   8.80199508e-05,\n",
       "          7.07459108e-04,   4.12281106e-03,   1.74274296e-02,\n",
       "          5.34535736e-02,   1.19001592e-01,   1.92334979e-01,\n",
       "          2.25711310e-01,   1.92334979e-01,   1.19001592e-01,\n",
       "          5.34535736e-02,   1.74274296e-02,   4.12281106e-03,\n",
       "          7.07459108e-04,   8.80199508e-05,   7.93675569e-06,\n",
       "          5.18429330e-07,   2.45200366e-08,   8.39344705e-10,\n",
       "          2.11624052e-11],\n",
       "       [  5.72331729e-13,   3.05286106e-11,   1.19350028e-09,\n",
       "          3.37561798e-08,   6.91021078e-07,   1.02431662e-05,\n",
       "          1.09997227e-04,   8.56112395e-04,   4.83136693e-03,\n",
       "          1.97776033e-02,   5.87482605e-02,   1.26666043e-01,\n",
       "          1.98272552e-01,   2.25350428e-01,   1.85978988e-01,\n",
       "          1.11443480e-01,   4.84804711e-02,   1.53073520e-02,\n",
       "          3.50689156e-03,   5.82741074e-04,   7.02073099e-05,\n",
       "          6.12987546e-06,   3.87690966e-07,   1.77535335e-08,\n",
       "          6.02725758e-10],\n",
       "       [  1.19144174e-14,   8.53987249e-13,   4.46941008e-11,\n",
       "          1.69160440e-09,   4.63213853e-08,   9.18102294e-07,\n",
       "          1.31772710e-05,   1.37020130e-04,   1.03267614e-03,\n",
       "          5.64354865e-03,   2.23728435e-02,   6.43608460e-02,\n",
       "          1.34393121e-01,   2.03740273e-01,   2.24271241e-01,\n",
       "          1.79258341e-01,   1.04031726e-01,   4.38293625e-02,\n",
       "          1.34021265e-02,   2.97342213e-03,   4.78468622e-04,\n",
       "          5.58194015e-05,   4.71910824e-06,   2.88987759e-07,\n",
       "          1.32336174e-08],\n",
       "       [  1.90806508e-16,   1.83673692e-14,   1.28727127e-12,\n",
       "          6.52207605e-11,   2.38984327e-09,   6.33586696e-08,\n",
       "          1.21587547e-06,   1.68972871e-05,   1.70133263e-04,\n",
       "          1.24165686e-03,   6.57113440e-03,   2.52276065e-02,\n",
       "          7.02840941e-02,   1.42135758e-01,   2.08689777e-01,\n",
       "          2.22484063e-01,   1.72228376e-01,   9.68023943e-02,\n",
       "          3.94976807e-02,   1.16964514e-02,   2.51302007e-03,\n",
       "          3.91592760e-04,   4.42373858e-05,   3.62132643e-06,\n",
       "          2.24229156e-07],\n",
       "       [  2.34965224e-18,   3.03651125e-16,   2.85072192e-14,\n",
       "          1.93410337e-12,   9.48667847e-11,   3.36538349e-09,\n",
       "          8.63827488e-08,   1.60503893e-06,   2.15977711e-05,\n",
       "          2.10569999e-04,   1.48813840e-03,   7.62666050e-03,\n",
       "          2.83555704e-02,   7.65069766e-02,   1.49843948e-01,\n",
       "          2.13076472e-01,   2.20005908e-01,   1.64945255e-01,\n",
       "          8.97874145e-02,   3.54801978e-02,   1.01751576e-02,\n",
       "          2.11709491e-03,   3.19461859e-04,   3.49457988e-05,\n",
       "          2.93580247e-06],\n",
       "       [  2.22398065e-20,   3.85766343e-18,   4.85271538e-16,\n",
       "          4.41013814e-14,   2.89654563e-12,   1.37542006e-10,\n",
       "          4.72383167e-09,   1.17393661e-07,   2.11193570e-06,\n",
       "          2.75170283e-05,   2.59780387e-04,   1.77782704e-03,\n",
       "          8.82337274e-03,   3.17693507e-02,   8.30144723e-02,\n",
       "          1.57465233e-01,   2.16860213e-01,   2.16860213e-01,\n",
       "          1.57465233e-01,   8.30144723e-02,   3.17693507e-02,\n",
       "          8.82337274e-03,   1.77782704e-03,   2.59780387e-04,\n",
       "          2.97512220e-05],\n",
       "       [  1.61744090e-22,   3.76523856e-20,   6.34816498e-18,\n",
       "          7.73005893e-16,   6.80047314e-14,   4.32386699e-12,\n",
       "          1.98769416e-10,   6.60920424e-09,   1.59022702e-07,\n",
       "          2.76996741e-06,   3.49457988e-05,   3.19461859e-04,\n",
       "          2.11709491e-03,   1.01751576e-02,   3.54801978e-02,\n",
       "          8.97874145e-02,   1.64945255e-01,   2.20005908e-01,\n",
       "          2.13076472e-01,   1.49843948e-01,   7.65069766e-02,\n",
       "          2.83555704e-02,   7.62666050e-03,   1.48813840e-03,\n",
       "          2.33862654e-04],\n",
       "       [  9.03586972e-25,   2.82282907e-22,   6.38030347e-20,\n",
       "          1.04125921e-17,   1.22735161e-15,   1.04523953e-13,\n",
       "          6.43362449e-12,   2.86323492e-10,   9.21720038e-09,\n",
       "          2.14719092e-07,   3.62132643e-06,   4.42373858e-05,\n",
       "          3.91592760e-04,   2.51302007e-03,   1.16964514e-02,\n",
       "          3.94976807e-02,   9.68023943e-02,   1.72228376e-01,\n",
       "          2.22484063e-01,   2.08689777e-01,   1.42135758e-01,\n",
       "          7.02840941e-02,   2.52276065e-02,   6.57113440e-03,\n",
       "          1.42996910e-03],\n",
       "       [  3.87656506e-27,   1.62522498e-24,   4.92570653e-22,\n",
       "          1.07764513e-19,   1.70237965e-17,   1.94242180e-15,\n",
       "          1.60133590e-13,   9.54180851e-12,   4.11109776e-10,\n",
       "          1.28128038e-08,   2.88987759e-07,   4.71910824e-06,\n",
       "          5.58194015e-05,   4.78468622e-04,   2.97342213e-03,\n",
       "          1.34021265e-02,   4.38293625e-02,   1.04031726e-01,\n",
       "          1.79258341e-01,   2.24271241e-01,   2.03740273e-01,\n",
       "          1.34393121e-01,   6.43608460e-02,   2.23728435e-02,\n",
       "          6.82738835e-03],\n",
       "       [  1.27692549e-29,   7.18454816e-27,   2.92039680e-24,\n",
       "          8.56716239e-22,   1.81424499e-19,   2.77422091e-17,\n",
       "          3.06412585e-15,   2.44533936e-13,   1.41057916e-11,\n",
       "          5.88372290e-10,   1.77535336e-08,   3.87690966e-07,\n",
       "          6.12987546e-06,   7.02073099e-05,   5.82741074e-04,\n",
       "          3.50689156e-03,   1.53073520e-02,   4.84804711e-02,\n",
       "          1.11443480e-01,   1.85978988e-01,   2.25350428e-01,\n",
       "          1.98272552e-01,   1.26666043e-01,   5.87482605e-02,\n",
       "          2.55860490e-02],\n",
       "       [  3.22881473e-32,   2.43820164e-29,   1.32947683e-26,\n",
       "          5.23062708e-24,   1.48521762e-21,   3.04440162e-19,\n",
       "          4.50622482e-17,   4.81790591e-15,   3.72208327e-13,\n",
       "          2.07852947e-11,   8.39344770e-10,   2.45200365e-08,\n",
       "          5.18429330e-07,   7.93675569e-06,   8.80199508e-05,\n",
       "          7.07459108e-04,   4.12281106e-03,   1.74274296e-02,\n",
       "          5.34535736e-02,   1.19001592e-01,   1.92334979e-01,\n",
       "          2.25711310e-01,   1.92334979e-01,   1.19001592e-01,\n",
       "          7.58077738e-02],\n",
       "       [  6.26624767e-35,   6.35122491e-32,   4.64634696e-29,\n",
       "          2.45213679e-26,   9.33790123e-24,   2.56642119e-21,\n",
       "          5.09206498e-19,   7.29578463e-17,   7.55090215e-15,\n",
       "          5.64707357e-13,   3.05286106e-11,   1.19350028e-09,\n",
       "          3.37561798e-08,   6.91021078e-07,   1.02431662e-05,\n",
       "          1.09997227e-04,   8.56112395e-04,   4.83136693e-03,\n",
       "          1.97776033e-02,   5.87482605e-02,   1.26666043e-01,\n",
       "          1.98272552e-01,   2.25350428e-01,   1.85978988e-01,\n",
       "          1.79397679e-01],\n",
       "       [  9.33243765e-38,   1.26970410e-34,   1.24642831e-31,\n",
       "          8.82542112e-29,   4.50807695e-26,   1.66160781e-23,\n",
       "          4.42028871e-21,   8.48930313e-19,   1.17738536e-16,\n",
       "          1.17958255e-14,   8.53987249e-13,   4.46941008e-11,\n",
       "          1.69160440e-09,   4.63213853e-08,   9.18102294e-07,\n",
       "          1.31772710e-05,   1.37020130e-04,   1.03267614e-03,\n",
       "          5.64354865e-03,   2.23728435e-02,   6.43608460e-02,\n",
       "          1.34393121e-01,   2.03740273e-01,   2.24271241e-01,\n",
       "          3.44034288e-01]])"
      ]
     },
     "execution_count": 55,
     "metadata": {},
     "output_type": "execute_result"
    }
   ],
   "source": [
    "mc.P  # The Markov matrix"
   ]
  },
  {
   "cell_type": "code",
   "execution_count": 56,
   "metadata": {
    "collapsed": false
   },
   "outputs": [
    {
     "data": {
      "text/plain": [
       "array([-0.13764944, -0.12617865, -0.11470787, -0.10323708, -0.09176629,\n",
       "       -0.08029551, -0.06882472, -0.05735393, -0.04588315, -0.03441236,\n",
       "       -0.02294157, -0.01147079,  0.        ,  0.01147079,  0.02294157,\n",
       "        0.03441236,  0.04588315,  0.05735393,  0.06882472,  0.08029551,\n",
       "        0.09176629,  0.10323708,  0.11470787,  0.12617865,  0.13764944])"
      ]
     },
     "execution_count": 56,
     "metadata": {},
     "output_type": "execute_result"
    }
   ],
   "source": [
    "mc.state_values"
   ]
  },
  {
   "cell_type": "code",
   "execution_count": 57,
   "metadata": {
    "collapsed": false
   },
   "outputs": [
    {
     "data": {
      "text/plain": [
       "(25, 25)"
      ]
     },
     "execution_count": 57,
     "metadata": {},
     "output_type": "execute_result"
    }
   ],
   "source": [
    "mc.P.shape"
   ]
  },
  {
   "cell_type": "markdown",
   "metadata": {},
   "source": [
    "For utility use $u(c) = c^{1-\\gamma}/ (1 - \\gamma)$ with $\\gamma = 2.0$\n",
    "\n",
    "For the discount factor set $\\beta = 0.98$\n",
    "\n",
    "If you can, plot your solution.  Show the price dividend ratio at each state."
   ]
  },
  {
   "cell_type": "code",
   "execution_count": 58,
   "metadata": {
    "collapsed": true
   },
   "outputs": [],
   "source": [
    "# Put your solution here!\n",
    "\n"
   ]
  },
  {
   "cell_type": "markdown",
   "metadata": {},
   "source": [
    "### Solution"
   ]
  },
  {
   "cell_type": "code",
   "execution_count": 59,
   "metadata": {
    "collapsed": false
   },
   "outputs": [
    {
     "name": "stdout",
     "output_type": "stream",
     "text": [
      "The solution is below --- look only after trying hard!\n",
      "The solution is below --- look only after trying hard!\n",
      "The solution is below --- look only after trying hard!\n",
      "The solution is below --- look only after trying hard!\n",
      "The solution is below --- look only after trying hard!\n",
      "The solution is below --- look only after trying hard!\n",
      "The solution is below --- look only after trying hard!\n",
      "The solution is below --- look only after trying hard!\n",
      "The solution is below --- look only after trying hard!\n",
      "The solution is below --- look only after trying hard!\n",
      "The solution is below --- look only after trying hard!\n",
      "The solution is below --- look only after trying hard!\n",
      "The solution is below --- look only after trying hard!\n",
      "The solution is below --- look only after trying hard!\n",
      "The solution is below --- look only after trying hard!\n",
      "The solution is below --- look only after trying hard!\n",
      "The solution is below --- look only after trying hard!\n",
      "The solution is below --- look only after trying hard!\n",
      "The solution is below --- look only after trying hard!\n",
      "The solution is below --- look only after trying hard!\n",
      "The solution is below --- look only after trying hard!\n",
      "The solution is below --- look only after trying hard!\n",
      "The solution is below --- look only after trying hard!\n",
      "The solution is below --- look only after trying hard!\n",
      "The solution is below --- look only after trying hard!\n",
      "The solution is below --- look only after trying hard!\n",
      "The solution is below --- look only after trying hard!\n",
      "The solution is below --- look only after trying hard!\n",
      "The solution is below --- look only after trying hard!\n",
      "The solution is below --- look only after trying hard!\n",
      "The solution is below --- look only after trying hard!\n",
      "The solution is below --- look only after trying hard!\n",
      "The solution is below --- look only after trying hard!\n",
      "The solution is below --- look only after trying hard!\n",
      "The solution is below --- look only after trying hard!\n",
      "The solution is below --- look only after trying hard!\n",
      "The solution is below --- look only after trying hard!\n",
      "The solution is below --- look only after trying hard!\n",
      "The solution is below --- look only after trying hard!\n",
      "The solution is below --- look only after trying hard!\n"
     ]
    }
   ],
   "source": [
    "for i in range(40):\n",
    "    print(\"The solution is below --- look only after trying hard!\")"
   ]
  },
  {
   "cell_type": "markdown",
   "metadata": {},
   "source": [
    "First let's write the function."
   ]
  },
  {
   "cell_type": "code",
   "execution_count": 60,
   "metadata": {
    "collapsed": false
   },
   "outputs": [],
   "source": [
    "def compute_price_dividend_ratio(J):\n",
    "    n = J.shape[0]\n",
    "    warning_message = \"Spectral radius condition fails\"\n",
    "    assert np.max(np.abs(eigvals(J))) < 1,  warning_message\n",
    "\n",
    "    I = np.identity(n)\n",
    "    v = solve(I - J, J @ np.ones(n))\n",
    "    \n",
    "    return v"
   ]
  },
  {
   "cell_type": "markdown",
   "metadata": {},
   "source": [
    "Now we need to work out what $\\mathbf J$ is.\n",
    "\n",
    "With a bit of work you can check that\n",
    "\n",
    "$$ m_{t+1} = \\beta \\exp( (1 - \\gamma) X_{t+1} ) $$\n",
    "\n",
    "so\n",
    "\n",
    "$$ \\mathbf J_{ij} = \\beta \\exp( (1 - \\gamma) x_j ) P(x_i, x_j) $$"
   ]
  },
  {
   "cell_type": "code",
   "execution_count": 65,
   "metadata": {
    "collapsed": true
   },
   "outputs": [],
   "source": [
    "gamma = 2.0\n",
    "beta = 0.98\n",
    "\n",
    "J = beta * mc.P * np.exp((1 - gamma) * mc.state_values)"
   ]
  },
  {
   "cell_type": "code",
   "execution_count": 66,
   "metadata": {
    "collapsed": false
   },
   "outputs": [
    {
     "data": {
      "text/plain": [
       "array([[  3.86908433e-01,   2.49343674e-01,   2.23933957e-01,\n",
       "          1.46028764e-01,   6.91355488e-02,   2.37585076e-02,\n",
       "          5.92472975e-03,   1.07176289e-03,   1.40584438e-04,\n",
       "          1.33658521e-05,   9.20620300e-07,   4.59186714e-08,\n",
       "          1.65777232e-09,   4.33007018e-11,   8.17922551e-13,\n",
       "          1.11428702e-14,   1.03922481e-16,   0.00000000e+00,\n",
       "          0.00000000e+00,   0.00000000e+00,   0.00000000e+00,\n",
       "          0.00000000e+00,   0.00000000e+00,   0.00000000e+00,\n",
       "          0.00000000e+00],\n",
       "       [  2.01754527e-01,   2.06770534e-01,   2.47685999e-01,\n",
       "          2.15438822e-01,   1.36062947e-01,   6.23868392e-02,\n",
       "          2.07629918e-02,   5.01423397e-03,   8.78382466e-04,\n",
       "          1.11571408e-04,   1.02712594e-05,   6.85013404e-07,\n",
       "          3.30810563e-08,   1.15629037e-09,   2.92394552e-11,\n",
       "          5.34647528e-13,   7.06672874e-15,   1.02737220e-16,\n",
       "          0.00000000e+00,   0.00000000e+00,   0.00000000e+00,\n",
       "          0.00000000e+00,   0.00000000e+00,   0.00000000e+00,\n",
       "          0.00000000e+00],\n",
       "       [  8.52550692e-02,   1.32305391e-01,   2.11398228e-01,\n",
       "          2.45253205e-01,   2.06603629e-01,   1.26371966e-01,\n",
       "          5.61168154e-02,   1.80870571e-02,   4.23005784e-03,\n",
       "          7.17583619e-04,   8.82613561e-05,   7.86775426e-06,\n",
       "          5.08060744e-07,   2.37555719e-08,   8.03901857e-10,\n",
       "          1.96806215e-11,   3.48348158e-13,   4.52043767e-15,\n",
       "          0.00000000e+00,   0.00000000e+00,   0.00000000e+00,\n",
       "          0.00000000e+00,   0.00000000e+00,   0.00000000e+00,\n",
       "          0.00000000e+00],\n",
       "       [  2.87746265e-02,   6.53160301e-02,   1.39220527e-01,\n",
       "          2.15438822e-01,   2.42068377e-01,   1.97497614e-01,\n",
       "          1.16995979e-01,   5.03154549e-02,   1.57055425e-02,\n",
       "          3.55707900e-03,   5.84339311e-04,   6.95969340e-05,\n",
       "          6.00727795e-06,   3.75603869e-07,   1.70038585e-08,\n",
       "          5.57100096e-10,   1.32037670e-11,   2.26227358e-13,\n",
       "          2.84383334e-15,   0.00000000e+00,   0.00000000e+00,\n",
       "          0.00000000e+00,   0.00000000e+00,   0.00000000e+00,\n",
       "          0.00000000e+00],\n",
       "       [  7.67822925e-03,   2.48740185e-02,   7.07399606e-02,\n",
       "          1.46028764e-01,   2.18855041e-01,   2.38161500e-01,\n",
       "          1.88189611e-01,   1.07969322e-01,   4.49694967e-02,\n",
       "          1.35939256e-02,   2.98157709e-03,   4.74308860e-04,\n",
       "          5.47030134e-05,   4.57197993e-06,   2.76784728e-07,\n",
       "          1.21317974e-08,   3.84819545e-10,   8.82975035e-12,\n",
       "          1.46457417e-13,   1.80732774e-15,   0.00000000e+00,\n",
       "          0.00000000e+00,   0.00000000e+00,   0.00000000e+00,\n",
       "          0.00000000e+00],\n",
       "       [  1.60817432e-03,   7.30575524e-03,   2.77280365e-02,\n",
       "          7.63692317e-02,   1.52680306e-01,   2.21614997e-01,\n",
       "          2.33568988e-01,   1.78747213e-01,   9.93205172e-02,\n",
       "          4.00629356e-02,   1.17285304e-02,   2.49117210e-03,\n",
       "          3.83760904e-04,   4.28581905e-05,   3.46840938e-06,\n",
       "          2.03306676e-07,   8.62776506e-09,   2.64956413e-10,\n",
       "          5.88561778e-12,   9.45834852e-14,   1.09188122e-15,\n",
       "          0.00000000e+00,   0.00000000e+00,   0.00000000e+00,\n",
       "          0.00000000e+00],\n",
       "       [  2.63007021e-04,   1.65450503e-03,   8.38257569e-03,\n",
       "          3.08105718e-02,   8.21827577e-02,   1.59124547e-01,\n",
       "          2.23692678e-01,   2.28333123e-01,   1.69235979e-01,\n",
       "          9.10723703e-02,   3.55775065e-02,   1.00866957e-02,\n",
       "          2.07475301e-03,   3.09501951e-04,   3.34701492e-05,\n",
       "          2.62274239e-06,   1.48853279e-07,   6.11598984e-09,\n",
       "          1.81838360e-10,   3.91035438e-12,   6.08475625e-14,\n",
       "          6.86908754e-16,   0.00000000e+00,   0.00000000e+00,\n",
       "          0.00000000e+00],\n",
       "       [  3.34588706e-05,   2.88822570e-04,   1.95403608e-03,\n",
       "          9.58729292e-03,   3.41262061e-02,   8.81559810e-02,\n",
       "          1.65310695e-01,   2.25068363e-01,   2.22501403e-01,\n",
       "          1.59718732e-01,   8.32421495e-02,   3.14931509e-02,\n",
       "          8.64690529e-03,   1.72239948e-03,   2.48810690e-04,\n",
       "          2.60544859e-05,   1.97687846e-06,   1.08633113e-07,\n",
       "          4.32145796e-09,   1.24391240e-10,   2.58964446e-12,\n",
       "          3.90556692e-14,   3.88042508e-16,   0.00000000e+00,\n",
       "          0.00000000e+00],\n",
       "       [  3.30166724e-06,   3.88525690e-05,   3.51125269e-04,\n",
       "          2.30039120e-03,   1.09300164e-02,   3.76776670e-02,\n",
       "          9.42609338e-02,   1.71188426e-01,   2.25728927e-01,\n",
       "          2.16125829e-01,   1.50254913e-01,   7.58418319e-02,\n",
       "          2.77884590e-02,   7.38888301e-03,   1.42529906e-03,\n",
       "          1.99378109e-04,   2.02166044e-05,   1.48526227e-06,\n",
       "          7.90247079e-08,   3.04360820e-09,   8.48177301e-11,\n",
       "          1.70942150e-12,   2.49317312e-14,   2.87712590e-16,\n",
       "          0.00000000e+00],\n",
       "       [  2.52172979e-07,   4.02617310e-06,   4.86219669e-05,\n",
       "          4.25496531e-04,   2.69945211e-03,   1.24208722e-02,\n",
       "          4.14655917e-02,   1.00466361e-01,   1.76708556e-01,\n",
       "          2.25668053e-01,   2.09262134e-01,   1.40900043e-01,\n",
       "          6.88784122e-02,   2.44410818e-02,   6.29365637e-03,\n",
       "          1.17566224e-03,   1.59253325e-04,   1.56363204e-05,\n",
       "          1.11230779e-06,   5.73007398e-08,   2.13669193e-09,\n",
       "          5.76469527e-11,   1.12483822e-12,   1.58241925e-14,\n",
       "          1.89620771e-16],\n",
       "       [  1.48828137e-08,   3.21295184e-07,   5.18684187e-06,\n",
       "          6.06521982e-05,   5.13964512e-04,   3.15758129e-03,\n",
       "          1.40698668e-02,   4.54883021e-02,   1.06737905e-01,\n",
       "          1.81823724e-01,   2.24886331e-01,   2.01968974e-01,\n",
       "          1.31705258e-01,   6.23542587e-02,   2.14281097e-02,\n",
       "          5.34359150e-03,   9.66637011e-04,   1.26794950e-04,\n",
       "          1.20548374e-05,   8.30319529e-07,   4.14146523e-08,\n",
       "          1.49516661e-09,   3.90534711e-11,   7.37695082e-13,\n",
       "          1.01447113e-14],\n",
       "       [  6.77838424e-10,   1.97382922e-08,   4.26116892e-07,\n",
       "          6.66059491e-06,   7.54157411e-05,   6.18833194e-04,\n",
       "          3.68161702e-03,   1.58867346e-02,   4.97415947e-02,\n",
       "          1.13038358e-01,   1.86489058e-01,   2.23391253e-01,\n",
       "          1.94307101e-01,   1.22716958e-01,   5.62675089e-02,\n",
       "          1.87264148e-02,   4.52240341e-03,   7.92224673e-04,\n",
       "          1.00627717e-04,   9.26378359e-06,   6.17822578e-07,\n",
       "          2.98362387e-08,   1.04287346e-09,   2.63714483e-11,\n",
       "          4.88747538e-13],\n",
       "       [  2.37996568e-11,   9.33179430e-10,   2.69503359e-08,\n",
       "          5.63314505e-07,   8.52555543e-06,   9.34714743e-05,\n",
       "          7.42707166e-04,   4.27885929e-03,   1.78807697e-02,\n",
       "          5.42185525e-02,   1.19327968e-01,   1.90662836e-01,\n",
       "          2.21197084e-01,   1.86338524e-01,   1.13976535e-01,\n",
       "          5.06124921e-02,   1.63129541e-02,   3.81514467e-03,\n",
       "          6.47198082e-04,   7.96040753e-05,   7.09603081e-06,\n",
       "          4.58226652e-07,   2.14254620e-08,   7.25049634e-10,\n",
       "          1.80721869e-11],\n",
       "       [  6.43656695e-13,   3.39415607e-11,   1.31179386e-09,\n",
       "          3.66787614e-08,   7.42285480e-07,   1.08775776e-05,\n",
       "          1.15477669e-04,   8.88516214e-04,   4.95704538e-03,\n",
       "          2.00606423e-02,   5.89093846e-02,   1.25564820e-01,\n",
       "          1.94307101e-01,   2.18324646e-01,   1.78125689e-01,\n",
       "          1.05520209e-01,   4.53801690e-02,   1.41650349e-02,\n",
       "          3.20817623e-03,   5.27023293e-04,   6.27703880e-05,\n",
       "          5.41804281e-06,   3.38762059e-07,   1.53360031e-08,\n",
       "          5.14713353e-10],\n",
       "       [  1.33992126e-14,   9.49458868e-13,   4.91239492e-11,\n",
       "          1.83806208e-09,   4.97578045e-08,   9.74965041e-07,\n",
       "          1.38338082e-05,   1.42206337e-04,   1.05953916e-03,\n",
       "          5.72431398e-03,   2.24342037e-02,   6.38012987e-02,\n",
       "          1.31705258e-01,   1.97388234e-01,   2.14800982e-01,\n",
       "          1.69730680e-01,   9.73789485e-02,   4.05585792e-02,\n",
       "          1.22605398e-02,   2.68912351e-03,   4.27785385e-04,\n",
       "          4.93373657e-05,   4.12352869e-06,   2.49635779e-07,\n",
       "          1.13011921e-08],\n",
       "       [  2.14585144e-16,   2.04207517e-14,   1.41485894e-12,\n",
       "          7.08675189e-11,   2.56713726e-09,   6.72827944e-08,\n",
       "          1.27645459e-06,   1.75368487e-05,   1.74558943e-04,\n",
       "          1.25942633e-03,   6.58915652e-03,   2.50082800e-02,\n",
       "          6.88784122e-02,   1.37704371e-01,   1.99877474e-01,\n",
       "          2.10658935e-01,   1.61214457e-01,   8.95784777e-02,\n",
       "          3.61332873e-02,   1.05781154e-02,   2.24682081e-03,\n",
       "          3.46118996e-04,   3.86543644e-05,   3.12820393e-06,\n",
       "          1.91486325e-07],\n",
       "       [  2.64246995e-18,   3.37597843e-16,   3.13327076e-14,\n",
       "          2.10155641e-12,   1.01904615e-10,   3.57381882e-09,\n",
       "          9.06866359e-08,   1.66578959e-06,   2.21595944e-05,\n",
       "          2.13583485e-04,   1.49221980e-03,   7.56035501e-03,\n",
       "          2.77884590e-02,   7.41217076e-02,   1.43516517e-01,\n",
       "          2.01751362e-01,   2.05936640e-01,   1.52636150e-01,\n",
       "          8.21393658e-02,   3.20878200e-02,   9.09732321e-03,\n",
       "          1.87124696e-03,   2.79143871e-04,   3.01871668e-05,\n",
       "          2.50710496e-06],\n",
       "       [  2.50113695e-20,   4.28893143e-18,   5.33369146e-16,\n",
       "          4.79196419e-14,   3.11143007e-12,   1.46060683e-10,\n",
       "          4.95918929e-09,   1.21837006e-07,   2.16687353e-06,\n",
       "          2.79108270e-05,   2.60492866e-04,   1.76237078e-03,\n",
       "          8.64690529e-03,   3.07788731e-02,   7.95090361e-02,\n",
       "          1.49095885e-01,   2.02992110e-01,   2.00676935e-01,\n",
       "          1.44052420e-01,   7.50771869e-02,   2.84040861e-02,\n",
       "          7.79875735e-03,   1.55345469e-03,   2.24405626e-04,\n",
       "          2.54068306e-05],\n",
       "       [  1.81900917e-22,   4.18617390e-20,   6.97736230e-18,\n",
       "          8.39932091e-16,   7.30497611e-14,   4.59166608e-12,\n",
       "          2.08672795e-10,   6.85936235e-09,   1.63159363e-07,\n",
       "          2.80960866e-06,   3.50416418e-05,   3.16684487e-04,\n",
       "          2.07475301e-03,   9.85792524e-03,   3.39819823e-02,\n",
       "          8.50151731e-02,   1.54397087e-01,   2.03587881e-01,\n",
       "          1.94926721e-01,   1.35516878e-01,   6.84027434e-02,\n",
       "          2.50627758e-02,   6.66413055e-03,   1.28549593e-03,\n",
       "          1.99713102e-04],\n",
       "       [  1.01619354e-24,   3.13840762e-22,   7.01268619e-20,\n",
       "          1.13141055e-17,   1.31840447e-15,   1.10997653e-13,\n",
       "          6.75416990e-12,   2.97160825e-10,   9.45696762e-09,\n",
       "          2.17791956e-07,   3.63125836e-06,   4.38527900e-05,\n",
       "          3.83760904e-04,   2.43467128e-03,   1.12025476e-02,\n",
       "          3.73983613e-02,   9.06119293e-02,   1.59375766e-01,\n",
       "          2.03532978e-01,   1.88736264e-01,   1.27079598e-01,\n",
       "          6.21223438e-02,   2.20437324e-02,   5.67633126e-03,\n",
       "          1.22115935e-03],\n",
       "       [  4.35966928e-27,   1.80691723e-24,   5.41391712e-22,\n",
       "          1.17094674e-19,   1.82867316e-17,   2.06272587e-15,\n",
       "          1.68111999e-13,   9.90296557e-12,   4.21803984e-10,\n",
       "          1.29961690e-08,   2.89780343e-07,   4.67808075e-06,\n",
       "          5.47030134e-05,   4.63551338e-04,   2.84786400e-03,\n",
       "          1.26897975e-02,   4.10264966e-02,   9.62683175e-02,\n",
       "          1.63989202e-01,   2.02827933e-01,   1.82158468e-01,\n",
       "          1.18786701e-01,   5.62381241e-02,   1.93262934e-02,\n",
       "          5.83042603e-03],\n",
       "       [  1.43605814e-29,   7.98774569e-27,   3.20985145e-24,\n",
       "          9.30890008e-22,   1.94883739e-19,   2.94604253e-17,\n",
       "          3.21679119e-15,   2.53789535e-13,   1.44727259e-11,\n",
       "          5.96792539e-10,   1.78022248e-08,   3.84320417e-07,\n",
       "          6.00727795e-06,   6.80184465e-05,   5.58133778e-04,\n",
       "          3.32049870e-03,   1.43284544e-02,   4.48625969e-02,\n",
       "          1.01950778e-01,   1.68196929e-01,   2.01479502e-01,\n",
       "          1.75248124e-01,   1.10680035e-01,   5.07484047e-02,\n",
       "          2.18498727e-02],\n",
       "       [  3.63119518e-32,   2.71078071e-29,   1.46124770e-26,\n",
       "          5.68349036e-24,   1.59540065e-21,   3.23295691e-19,\n",
       "          4.73074051e-17,   5.00026345e-15,   3.81890591e-13,\n",
       "          2.10827549e-11,   8.41646774e-10,   2.43068616e-08,\n",
       "          5.08060744e-07,   7.68931032e-06,   8.43031493e-05,\n",
       "          6.69857339e-04,   3.85915934e-03,   1.61269008e-02,\n",
       "          4.89004239e-02,   1.07623460e-01,   1.71961314e-01,\n",
       "          1.99500553e-01,   1.68061160e-01,   1.02796932e-01,\n",
       "          6.47380221e-02],\n",
       "       [  7.04715825e-35,   7.06126094e-32,   5.10686887e-29,\n",
       "          2.66444072e-26,   1.00306470e-23,   2.72537272e-21,\n",
       "          5.34576926e-19,   7.57192978e-17,   7.74732394e-15,\n",
       "          5.72788935e-13,   3.06123390e-11,   1.18312409e-09,\n",
       "          3.30810562e-08,   6.69477015e-07,   9.81063002e-06,\n",
       "          1.04150825e-04,   8.01364433e-04,   4.47082428e-03,\n",
       "          1.80929566e-02,   5.31311470e-02,   1.13248559e-01,\n",
       "          1.75248124e-01,   1.96909863e-01,   1.60653897e-01,\n",
       "          1.53201319e-01],\n",
       "       [  1.04954621e-37,   1.41165083e-34,   1.36996784e-31,\n",
       "          9.58951864e-29,   4.84251518e-26,   1.76451964e-23,\n",
       "          4.64052277e-21,   8.81062290e-19,   1.20801272e-16,\n",
       "          1.19646366e-14,   8.56329412e-13,   4.43055344e-11,\n",
       "          1.65777231e-09,   4.48772168e-08,   8.79333765e-07,\n",
       "          1.24768931e-05,   1.28257761e-04,   9.55612276e-04,\n",
       "          5.16283389e-03,   2.02337027e-02,   5.75432285e-02,\n",
       "          1.18786701e-01,   1.78027038e-01,   1.93731824e-01,\n",
       "          2.93797037e-01]])"
      ]
     },
     "execution_count": 66,
     "metadata": {},
     "output_type": "execute_result"
    }
   ],
   "source": [
    "J"
   ]
  },
  {
   "cell_type": "markdown",
   "metadata": {},
   "source": [
    "Now we can call the function:"
   ]
  },
  {
   "cell_type": "code",
   "execution_count": 67,
   "metadata": {
    "collapsed": false
   },
   "outputs": [],
   "source": [
    "v = compute_price_dividend_ratio(J)"
   ]
  },
  {
   "cell_type": "code",
   "execution_count": 69,
   "metadata": {
    "collapsed": false
   },
   "outputs": [
    {
     "data": {
      "text/plain": [
       "array([ 3806.10504934,  3562.00322003,  3293.0749103 ,  3019.3746033 ,\n",
       "        2754.20933463,  2504.42987881,  2272.78140959,  2059.86252982,\n",
       "        1865.22538798,  1687.92394604,  1526.79250318,  1380.59328101,\n",
       "        1248.09555957,  1128.11745983,  1019.54709396,   921.35238149,\n",
       "         832.58497519,   752.38193077,   679.9683841 ,   614.66602037,\n",
       "         555.91794802,   503.35299741,   456.91572584,   417.02375198,\n",
       "         384.54838611])"
      ]
     },
     "execution_count": 69,
     "metadata": {},
     "output_type": "execute_result"
    }
   ],
   "source": [
    "v"
   ]
  },
  {
   "cell_type": "code",
   "execution_count": 68,
   "metadata": {
    "collapsed": true
   },
   "outputs": [],
   "source": [
    "matplotlib inline"
   ]
  },
  {
   "cell_type": "code",
   "execution_count": 64,
   "metadata": {
    "collapsed": false
   },
   "outputs": [
    {
     "data": {
      "image/png": "[encoded data removed]",
      "text/plain": [
       "<matplotlib.figure.Figure at 0x7f1b97dfb8d0>"
      ]
     },
     "metadata": {},
     "output_type": "display_data"
    }
   ],
   "source": [
    "import matplotlib.pyplot as plt\n",
    "fig, ax = plt.subplots(figsize = (9, 6))\n",
    "ax.plot(mc.state_values, v, lw=2, alpha=0.8, label=\"$v(x)$\")\n",
    "ax.legend(fontsize=16)\n",
    "ax.grid()\n",
    "plt.show()"
   ]
  },
  {
   "cell_type": "code",
   "execution_count": null,
   "metadata": {
    "collapsed": true
   },
   "outputs": [],
   "source": []
  }
 ],
 "metadata": {
  "kernelspec": {
   "display_name": "Python 3",
   "language": "python",
   "name": "python3"
  },
  "language_info": {
   "codemirror_mode": {
    "name": "ipython",
    "version": 3
   },
   "file_extension": ".py",
   "mimetype": "text/x-python",
   "name": "python",
   "nbconvert_exporter": "python",
   "pygments_lexer": "ipython3",
   "version": "3.5.1"
  }
 },
 "nbformat": 4,
 "nbformat_minor": 0
}
